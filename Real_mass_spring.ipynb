{
  "nbformat": 4,
  "nbformat_minor": 0,
  "metadata": {
    "colab": {
      "name": "Real mass spring.ipynb",
      "provenance": []
    },
    "kernelspec": {
      "name": "python3",
      "display_name": "Python 3"
    },
    "accelerator": "GPU"
  },
  "cells": [
    {
      "cell_type": "markdown",
      "metadata": {
        "id": "bk-TC32fMRM4",
        "colab_type": "text"
      },
      "source": [
        "# Hamiltonian Neural Network"
      ]
    },
    {
      "cell_type": "markdown",
      "metadata": {
        "id": "gig8kYRLMZPZ",
        "colab_type": "text"
      },
      "source": [
        "### Importing Libraries"
      ]
    },
    {
      "cell_type": "code",
      "metadata": {
        "id": "gLeGpNjHpJAk",
        "colab_type": "code",
        "colab": {}
      },
      "source": [
        "!pip install tensorflow==2.0.0-beta"
      ],
      "execution_count": 0,
      "outputs": []
    },
    {
      "cell_type": "code",
      "metadata": {
        "id": "-1Z_uOTm1Wel",
        "colab_type": "code",
        "colab": {}
      },
      "source": [
        "import os\n",
        "import gym\n",
        "import math\n",
        "import zipfile\n",
        "import autograd\n",
        "import scipy.integrate\n",
        "solve_ivp  = scipy.integrate.solve_ivp\n",
        "import autograd.numpy as np\n",
        "import matplotlib.pyplot as plt\n",
        "from urllib.request import urlretrieve\n",
        "\n",
        "import tensorflow as tf\n",
        "from tensorflow import keras\n",
        "from tensorflow.keras import Model\n",
        "from tensorflow.keras import layers\n",
        "from tensorflow.keras.layers import Dense\n",
        "\n",
        "from keras.models import Model\n",
        "from keras.models import Sequential\n",
        "from keras.layers import Dense, Activation"
      ],
      "execution_count": 0,
      "outputs": []
    },
    {
      "cell_type": "markdown",
      "metadata": {
        "id": "7uEMdEPCOTxD",
        "colab_type": "text"
      },
      "source": [
        "### Data Generation Functions"
      ]
    },
    {
      "cell_type": "code",
      "metadata": {
        "id": "uB-VpZduL-9M",
        "colab_type": "code",
        "colab": {}
      },
      "source": [
        "from autograd import grad\n",
        "import autograd.numpy as np"
      ],
      "execution_count": 0,
      "outputs": []
    },
    {
      "cell_type": "code",
      "metadata": {
        "id": "LX_-urNQI2Yb",
        "colab_type": "code",
        "colab": {}
      },
      "source": [
        "def fun_x(t, m=1.0, b=0.01, k=1.0, x_init=5):\n",
        "    alpha = b/(2*m)\n",
        "    omega = (abs(b**2-4*m*k))**0.5/(2*m)\n",
        "    c1 = x_init\n",
        "    c2 = (alpha*c1)/(omega)\n",
        "    # print (alpha, omega, c1, c2)\n",
        "    return np.exp(-1*alpha*t)*(c1*np.cos(omega*t) + c2*np.sin(omega*t))"
      ],
      "execution_count": 0,
      "outputs": []
    },
    {
      "cell_type": "code",
      "metadata": {
        "id": "DUIY0ClOMrmY",
        "colab_type": "code",
        "colab": {}
      },
      "source": [
        "def fun_v(t, m=1.0, b=0.01, k=1.0, x_init=5):\n",
        "    grad_tanh = grad(fun_x)\n",
        "    return grad_tanh(t, m, b, k, x_init)"
      ],
      "execution_count": 0,
      "outputs": []
    },
    {
      "cell_type": "code",
      "metadata": {
        "id": "2JX0HyqFLAQB",
        "colab_type": "code",
        "colab": {}
      },
      "source": [
        "def fun_a(t, m=1.0, b=0.01, k=1.0, x_init=5):\n",
        "    grad_tanh = grad(fun_v)\n",
        "    return grad_tanh(t, m, b, k, x_init)"
      ],
      "execution_count": 0,
      "outputs": []
    },
    {
      "cell_type": "code",
      "metadata": {
        "id": "H72YSdM412HJ",
        "colab_type": "code",
        "colab": {}
      },
      "source": [
        "'''\n",
        "t_span - time span for data points\n",
        "timescale - number of datapoints per second\n",
        "noise_std - standard deviation of the noise (Gaussian Noise)\n",
        "'''\n",
        "def get_trajectory(t_span = [0,20], timescale  = 10, y0 = None, noise_std = 0.1, radius = None):\n",
        "    if (y0 is None):\n",
        "        y0 = (np.random.rand(1)*2-1)*5\n",
        "\n",
        "    # spring_ivp = solve_ivp(fun = dynamics_fn, t_span = t_span, y0=y0, t_eval=t_eval, rtol=1e-10)\n",
        "    q = []\n",
        "    p = []\n",
        "    dqdt = []\n",
        "    dpdt = []\n",
        "    c = []\n",
        "    for i in range(t_span[0], t_span[1]):\n",
        "        for j in range(timescale):\n",
        "            q.append(fun_x(i+j/timescale, x_init=y0))\n",
        "            p.append(fun_v(i+j/timescale, x_init=y0))\n",
        "            dqdt.append(fun_v(i+j/timescale, x_init=y0))\n",
        "            dpdt.append(fun_a(i+j/timescale, x_init=y0))\n",
        "            c.append(i+j/timescale)\n",
        "    \n",
        "    q = np.array(q)\n",
        "    p = np.array(p)\n",
        "    dqdt = np.array(dqdt)\n",
        "    dpdt = np.array(dpdt)\n",
        "    q += np.random.randn(*q.shape)*noise_std\n",
        "    p += np.random.randn(*p.shape)*noise_std\n",
        "    return q, p, dqdt, dpdt, c"
      ],
      "execution_count": 0,
      "outputs": []
    },
    {
      "cell_type": "code",
      "metadata": {
        "id": "t0r4z1aM1cyH",
        "colab_type": "code",
        "colab": {}
      },
      "source": [
        "def get_dataset(samples = 50, test_split = 0.5, radius=1):\n",
        "    data = {}\n",
        "    states, dstates = [],  []\n",
        "    for s in range(samples):\n",
        "        q, p, dqdt, dpdt, t = get_trajectory(radius=radius)  # states and their derivaties\n",
        "        states.append( np.stack( [q.reshape(-1), p]).T )\n",
        "        dstates.append( np.stack( [dqdt, dpdt]).T)\n",
        "    data['states'] = np.concatenate(states)\n",
        "    data['dstates'] =  np.concatenate(dstates).squeeze()\n",
        "    \n",
        "    split_ix = int(len(data['states']) * test_split)\n",
        "    split_data = {}\n",
        "    for k in ['states', 'dstates']:\n",
        "        split_data[k], split_data['test_' + k] = data[k][:split_ix], data[k][split_ix:]\n",
        "    data = split_data\n",
        "    return data"
      ],
      "execution_count": 0,
      "outputs": []
    },
    {
      "cell_type": "markdown",
      "metadata": {
        "id": "PJndN0WNO9nz",
        "colab_type": "text"
      },
      "source": [
        "### Model Definitions"
      ]
    },
    {
      "cell_type": "markdown",
      "metadata": {
        "id": "5A3BmgloPXoy",
        "colab_type": "text"
      },
      "source": [
        "Multi Layer Perceptron Model"
      ]
    },
    {
      "cell_type": "code",
      "metadata": {
        "id": "zxCGWKqgGU7G",
        "colab_type": "code",
        "colab": {}
      },
      "source": [
        "def MLP(input_dim, hidden_dim, output_dim, nonlinearity='tanh'):\n",
        "    inputs = keras.Input(shape=(input_dim,))\n",
        "    x = layers.Dense(hidden_dim, activation=nonlinearity)(inputs)\n",
        "    x = layers.Dense(hidden_dim, activation=nonlinearity)(x)\n",
        "    outputs = layers.Dense(output_dim, activation='linear')(x)\n",
        "    model = keras.Model(inputs=inputs, outputs=outputs)\n",
        "    return model"
      ],
      "execution_count": 0,
      "outputs": []
    },
    {
      "cell_type": "code",
      "metadata": {
        "id": "AvNzacsJEttj",
        "colab_type": "code",
        "colab": {}
      },
      "source": [
        "def train_MLP(data, learning_rate = 1e-3, epochs = 200):\n",
        "    nn_model = MLP(input_dim = data['states'].shape[1], hidden_dim= 200, output_dim=data['dstates'].shape[1], nonlinearity='tanh')\n",
        "    nn_model.compile(loss='mean_squared_error',optimizer = keras.optimizers.Adam(learning_rate))\n",
        "    \n",
        "    nn_model.fit(data['states'], data['dstates'], batch_size=len(data['states']), epochs = epochs)\n",
        "    return nn_model"
      ],
      "execution_count": 0,
      "outputs": []
    },
    {
      "cell_type": "code",
      "metadata": {
        "id": "OSKvveFgX6Da",
        "colab_type": "code",
        "colab": {}
      },
      "source": [
        "def integrate_model_MLP(model, t_span, y0, **kwargs):\n",
        "    def fun(t, np_x):\n",
        "        np_x = np_x.reshape((1,2))\n",
        "        dx = model.predict(np_x)\n",
        "        return dx\n",
        "    return solve_ivp(fun=fun, t_span=t_span, y0=y0, **kwargs)"
      ],
      "execution_count": 0,
      "outputs": []
    },
    {
      "cell_type": "markdown",
      "metadata": {
        "id": "cumkxtSMPkEQ",
        "colab_type": "text"
      },
      "source": [
        "Hamiltonian Neural Network Model"
      ]
    },
    {
      "cell_type": "code",
      "metadata": {
        "id": "1mEO2r8XoFpv",
        "colab_type": "code",
        "colab": {}
      },
      "source": [
        "class HNN(keras.Model):\n",
        "  def __init__(self, input_dim=2):\n",
        "    super(HNN, self).__init__()\n",
        "    self.d1 = tf.keras.layers.Dense(200, activation='tanh')\n",
        "    self.d2 = tf.keras.layers.Dense(200, activation='tanh')\n",
        "    self.d3 = tf.keras.layers.Dense(1)\n",
        "    M = np.eye(input_dim)\n",
        "    M = np.concatenate((M[input_dim//2:], -M[:input_dim//2]), axis=0)\n",
        "    self.M = tf.constant(M, dtype='double')\n",
        "\n",
        "  def call(self, x):\n",
        "    y = self.d1(x)\n",
        "    y = self.d2(y)\n",
        "    y = self.d3(y)\n",
        "    return y\n",
        "\n",
        "  def forward(self, x):\n",
        "    with tf.GradientTape() as tape:\n",
        "        y = self.d1(x)\n",
        "        y = self.d2(y)\n",
        "        y = self.d3(y)\n",
        "    y = tape.gradient(y, x)\n",
        "    y = y @ self.M\n",
        "    return y"
      ],
      "execution_count": 0,
      "outputs": []
    },
    {
      "cell_type": "code",
      "metadata": {
        "id": "t5HZN2fU7XnM",
        "colab_type": "code",
        "outputId": "c12c5d91-6a35-4958-a364-f358713bb090",
        "colab": {
          "base_uri": "https://localhost:8080/",
          "height": 84
        }
      },
      "source": [
        "model = HNN()\n",
        "print (model.call(tf.Variable([[1.0, 2.0]], dtype='double')))\n",
        "print (model.forward(tf.Variable([[1.0, 2.0], [1.0, 2.0]], dtype='double')))"
      ],
      "execution_count": 0,
      "outputs": [
        {
          "output_type": "stream",
          "text": [
            "tf.Tensor([[-0.0880086]], shape=(1, 1), dtype=float64)\n",
            "tf.Tensor(\n",
            "[[-0.00224629 -0.1011918 ]\n",
            " [-0.00224629 -0.1011918 ]], shape=(2, 2), dtype=float64)\n"
          ],
          "name": "stdout"
        }
      ]
    },
    {
      "cell_type": "code",
      "metadata": {
        "id": "_SUI69CR0pJW",
        "colab_type": "code",
        "colab": {}
      },
      "source": [
        "def train_HNN(data, learning_rate = 1e-3, epochs = 200):\n",
        "    model = HNN(input_dim=data['states'].shape[1])\n",
        "    loss_object = tf.keras.losses.MeanSquaredError()\n",
        "    optimizer = tf.keras.optimizers.Adam(learning_rate=learning_rate)\n",
        "    for i in range(epochs):\n",
        "        with tf.GradientTape() as tape1:\n",
        "            tape1.watch(model.trainable_variables)\n",
        "            predictions = model.forward(tf.Variable(tf.stack(data['states'])))\n",
        "            loss = loss_object(tf.Variable(tf.stack(data['dstates'])), predictions)\n",
        "        gradients = tape1.gradient(loss, model.trainable_variables)\n",
        "        optimizer.apply_gradients(zip(gradients, model.trainable_variables))\n",
        "\n",
        "        print (i, loss)\n",
        "    return model"
      ],
      "execution_count": 0,
      "outputs": []
    },
    {
      "cell_type": "code",
      "metadata": {
        "id": "-Lm_3_3EAeMB",
        "colab_type": "code",
        "colab": {}
      },
      "source": [
        "def integrate_model_HNN(model, t_span, y0, **kwargs):\n",
        "    def fun(t, np_x):\n",
        "        np_x = tf.Variable(tf.reshape(np_x, (1,2)), dtype='double')\n",
        "        dx = model.forward(np_x)\n",
        "        return dx\n",
        "    return solve_ivp(fun=fun, t_span=t_span, y0=y0, **kwargs)"
      ],
      "execution_count": 0,
      "outputs": []
    },
    {
      "cell_type": "code",
      "metadata": {
        "id": "L9yQ1DsGNWse",
        "colab_type": "code",
        "colab": {}
      },
      "source": [
        "def integrate_models(x0=np.asarray([1, 0]), t_span=[0,5], t_eval=None, noise_std=0.0):\n",
        "    # integrate along ground truth vector field\n",
        "    kwargs = {'t_eval': t_eval, 'rtol': 1e-12}\n",
        "    true_path = get_trajectory(t_span, y0=x0[0], timescale=100, noise_std=noise_std)\n",
        "    # print (true_path[0], true_path[1])\n",
        "    true_x = np.stack([true_path[0], true_path[1]]).T\n",
        "    \n",
        "    # rescale time to compensate for noise effects, as described in appendix\n",
        "    # t_span[1] *= 1 + .9*noise_std\n",
        "    # t_eval *= 1 + .9*noise_std\n",
        "\n",
        "    # integrate along baseline vector field\n",
        "    hnn_ivp = integrate_model_HNN(hnn_model, t_span, x0, **kwargs)\n",
        "\n",
        "    base_ivp = integrate_model_MLP(base_model, t_span, x0, **kwargs)\n",
        "    base_x = base_ivp['y'].T\n",
        "    # _tmp = torch.tensor( true_x, requires_grad=True, dtype=torch.float32)\n",
        "\n",
        "    # integrate along HNN vector field\n",
        "    hnn_x = hnn_ivp['y'].T\n",
        "    # _tmp = torch.tensor( true_x, requires_grad=True, dtype=torch.float32)\n",
        "    \n",
        "    return true_x, base_x, hnn_x\n",
        "\n",
        "def energy_loss(true_x, integrated_x):\n",
        "    true_energy = (true_x**2).sum(1)\n",
        "    integration_energy = (integrated_x**2).sum(1)\n",
        "    return np.mean((true_energy - integration_energy)**2)"
      ],
      "execution_count": 0,
      "outputs": []
    },
    {
      "cell_type": "markdown",
      "metadata": {
        "id": "N2lueJ-ASDf4",
        "colab_type": "text"
      },
      "source": [
        "## Real spring-mass system"
      ]
    },
    {
      "cell_type": "markdown",
      "metadata": {
        "id": "dGotUPIDTjBc",
        "colab_type": "text"
      },
      "source": [
        "Defining The Conserved Quantity"
      ]
    },
    {
      "cell_type": "code",
      "metadata": {
        "id": "u6Nrk5lOUQzX",
        "colab_type": "code",
        "outputId": "c757e725-2fd0-4b3e-b9bb-2d42607da55f",
        "colab": {
          "base_uri": "https://localhost:8080/",
          "height": 354
        }
      },
      "source": [
        "fig = plt.figure(figsize=(5, 5), facecolor='white')\n",
        "x, y, dx, dy, t = get_trajectory(t_span=[0, 15])\n",
        "plt.scatter(x,y,c=t,s=14, label='data')\n",
        "\n",
        "plt.xlabel(\"$x$\", fontsize=14)\n",
        "plt.ylabel(\"$\\\\frac{dx}{dt}$\", rotation=0, fontsize=14)\n",
        "plt.title(\"Dynamics\")\n",
        "plt.legend(loc='upper right')\n",
        "plt.show()"
      ],
      "execution_count": 0,
      "outputs": [
        {
          "output_type": "display_data",
          "data": {
            "image/png": "[encoded data removed]",
            "text/plain": [
              "<Figure size 360x360 with 1 Axes>"
            ]
          },
          "metadata": {
            "tags": []
          }
        }
      ]
    },
    {
      "cell_type": "markdown",
      "metadata": {
        "id": "I0GDD4fiTr-_",
        "colab_type": "text"
      },
      "source": [
        "Generating Data"
      ]
    },
    {
      "cell_type": "code",
      "metadata": {
        "id": "CLeEDtCqjlsL",
        "colab_type": "code",
        "colab": {}
      },
      "source": [
        "data = get_dataset()"
      ],
      "execution_count": 0,
      "outputs": []
    },
    {
      "cell_type": "markdown",
      "metadata": {
        "id": "SKMZ4NBgTt2_",
        "colab_type": "text"
      },
      "source": [
        "Training MLP And HNN Models"
      ]
    },
    {
      "cell_type": "code",
      "metadata": {
        "id": "iAw1kiXqSOuk",
        "colab_type": "code",
        "colab": {}
      },
      "source": [
        "base_model = train_MLP(data, epochs=500, learning_rate=0.005)"
      ],
      "execution_count": 0,
      "outputs": []
    },
    {
      "cell_type": "code",
      "metadata": {
        "id": "SwLZNs59dQme",
        "colab_type": "code",
        "colab": {}
      },
      "source": [
        "hnn_model = train_HNN(data, epochs=500, learning_rate=0.005)"
      ],
      "execution_count": 0,
      "outputs": []
    },
    {
      "cell_type": "markdown",
      "metadata": {
        "id": "N2aDx3ikT1TW",
        "colab_type": "text"
      },
      "source": [
        "### Analysis"
      ]
    },
    {
      "cell_type": "code",
      "metadata": {
        "id": "yHkolKDVAwrF",
        "colab_type": "code",
        "colab": {}
      },
      "source": [
        "t_span = [0,20]\n",
        "y0 = np.array([1, 0])\n",
        "kwargs = {'t_eval': np.linspace(t_span[0], t_span[1], 2000), 'rtol': 1e-12}\n",
        "hnn_ivp = integrate_model_HNN(hnn_model, t_span, y0, **kwargs)\n",
        "base_ivp = integrate_model_MLP(base_model, t_span, y0, **kwargs)"
      ],
      "execution_count": 0,
      "outputs": []
    },
    {
      "cell_type": "code",
      "metadata": {
        "id": "ssoctbibdQhh",
        "colab_type": "code",
        "outputId": "c1ed1e28-951a-4b3b-bffc-30ff44acc0d9",
        "colab": {
          "base_uri": "https://localhost:8080/",
          "height": 255
        }
      },
      "source": [
        "LINE_SEGMENTS = 10\n",
        "LINE_WIDTH = 2\n",
        "\n",
        "fig = plt.figure(figsize=(11.3, 3.1), facecolor='white')\n",
        "fig.add_subplot(1, 3, 1, frameon=True)\n",
        "x, y, dx, dy, t = get_trajectory(t_span=[0, 20])\n",
        "plt.scatter(x,y,c=t,s=14, label='data')\n",
        "\n",
        "plt.xlabel(\"$x$\", fontsize=14)\n",
        "plt.ylabel(\"$\\\\frac{dx}{dt}$\", rotation=0, fontsize=14)\n",
        "plt.title(\"Dynamics\")\n",
        "plt.legend(loc='upper right')\n",
        "\n",
        "fig.add_subplot(1, 3, 2, frameon=True)\n",
        "for i, l in enumerate(np.split(base_ivp['y'].T, LINE_SEGMENTS)):\n",
        "    color = (float(i)/LINE_SEGMENTS, 0, 1-float(i)/LINE_SEGMENTS)\n",
        "    plt.plot(l[:,0],l[:,1],color=color, linewidth=LINE_WIDTH)\n",
        "    \n",
        "plt.xlabel(\"$q$\", fontsize=14)\n",
        "plt.ylabel(\"$p$\", rotation=0, fontsize=14)\n",
        "plt.title(\"Baseline NN\", pad=10)\n",
        "\n",
        "fig.add_subplot(1, 3, 3, frameon=True)\n",
        "for i, l in enumerate(np.split(hnn_ivp['y'].T, LINE_SEGMENTS)):\n",
        "    color = (float(i)/LINE_SEGMENTS, 0, 1-float(i)/LINE_SEGMENTS)\n",
        "    plt.plot(l[:,0],l[:,1],color=color, linewidth=LINE_WIDTH)\n",
        "    \n",
        "plt.xlabel(\"$q$\", fontsize=14)\n",
        "plt.ylabel(\"$p$\", rotation=0, fontsize=14)\n",
        "plt.title(\"Hamiltonian NN\", pad=10)\n",
        "plt.show()"
      ],
      "execution_count": 0,
      "outputs": [
        {
          "output_type": "display_data",
          "data": {
            "image/png": "[encoded data removed]",
            "text/plain": [
              "<Figure size 813.6x223.2 with 3 Axes>"
            ]
          },
          "metadata": {
            "tags": []
          }
        }
      ]
    },
    {
      "cell_type": "code",
      "metadata": {
        "id": "EAd1GQ4hnA17",
        "colab_type": "code",
        "outputId": "d37cc94b-f0c9-4d5e-cb98-9577f69c561e",
        "colab": {
          "base_uri": "https://localhost:8080/",
          "height": 242
        }
      },
      "source": [
        "x0 = np.asarray([1, 0])\n",
        "\n",
        "# integration\n",
        "t_span=[0,20]\n",
        "t_eval = np.linspace(t_span[0], t_span[1], 2000)\n",
        "true_x, base_x, hnn_x = integrate_models(x0=x0, t_span=t_span, t_eval=t_eval)\n",
        "print (true_x.shape, base_x.shape, hnn_x.shape)\n",
        "\n",
        "# plotting\n",
        "tpad = 7\n",
        "\n",
        "fig = plt.figure(figsize=[12,3])\n",
        "plt.subplot(1,4,1)\n",
        "plt.title(\"Predictions\", pad=tpad) ; plt.xlabel('$q$') ; plt.ylabel('$p$')\n",
        "plt.plot(true_x[:,0], true_x[:,1], 'k-', label='Ground truth', linewidth=2)\n",
        "plt.plot(base_x[:,0], base_x[:,1], 'r-', label='Baseline NN', linewidth=2)\n",
        "plt.plot(hnn_x[:,0], hnn_x[:,1], 'b-', label='Hamiltonian NN', linewidth=2)\n",
        "plt.xlim(-1.2,2) ; plt.ylim(-1.2,2)\n",
        "plt.legend(fontsize=7)\n",
        "\n",
        "plt.subplot(1,4,2)\n",
        "plt.title(\"MSE between coordinates\", pad=tpad) ; plt.xlabel('Time step')\n",
        "plt.plot(t_eval, ((true_x-base_x)**2).mean(-1), 'r-', label='Baseline NN', linewidth=2)\n",
        "plt.plot(t_eval, ((true_x-hnn_x)**2).mean(-1), 'b-', label='Hamiltonian NN', linewidth=2)\n",
        "# print (((true_x-base_x)**2).mean(-1))\n",
        "# print (((true_x-hnn_x)**2).mean(-1))\n",
        "plt.legend(fontsize=7)\n",
        "\n",
        "plt.subplot(1,4,3)\n",
        "plt.title(\"Total HNN-conserved quantity\", pad=tpad)\n",
        "plt.xlabel('Time step')\n",
        "true_hq = hnn_model.call(tf.Variable(true_x))\n",
        "base_hq = hnn_model.call(tf.Variable(base_x))\n",
        "hnn_hq = hnn_model.call(tf.Variable(hnn_x))\n",
        "plt.plot(t_eval, true_hq, 'k-', label='Ground truth', linewidth=2)\n",
        "plt.plot(t_eval, base_hq, 'r-', label='Baseline NN', linewidth=2)\n",
        "plt.plot(t_eval, hnn_hq, 'b-', label='Hamiltonian NN', linewidth=2)\n",
        "plt.legend(fontsize=7)\n",
        "\n",
        "plt.tight_layout() ; plt.show()"
      ],
      "execution_count": 0,
      "outputs": [
        {
          "output_type": "stream",
          "text": [
            "(2000, 2) (2000, 2) (2000, 2)\n"
          ],
          "name": "stdout"
        },
        {
          "output_type": "display_data",
          "data": {
            "image/png": "[encoded data removed]",
            "text/plain": [
              "<Figure size 864x216 with 3 Axes>"
            ]
          },
          "metadata": {
            "tags": []
          }
        }
      ]
    },
    {
      "cell_type": "code",
      "metadata": {
        "id": "wkeo7XCabAVC",
        "colab_type": "code",
        "outputId": "a079802f-39d5-4da4-d44a-65379fdc66f8",
        "colab": {
          "base_uri": "https://localhost:8080/",
          "height": 269
        }
      },
      "source": [
        "splits = 5\n",
        "samples = 3\n",
        "losses = {'base_energy' : [], 'hnn_energy' : []}\n",
        "t_eval = np.linspace(t_span[0], t_span[1], 2000)\n",
        "\n",
        "_tmp = [] # for computing batched means\n",
        "for i in range(splits*samples):\n",
        "    x0 = np.random.rand(2)*1.6 - .8 # randomly sample a starting px: \\in(-2,2) and abs(px) > 0.2\n",
        "    x0 += 0.2 * np.sign(x0) * np.ones_like(x0)\n",
        "    true_x, base_x, hnn_x = integrate_models(x0=x0, t_span=t_span, t_eval=t_eval)\n",
        "    print (true_x.shape, base_x.shape, hnn_x.shape)\n",
        "    losses['base_energy'] += [ energy_loss(true_x, base_x) ]\n",
        "    losses['hnn_energy'] += [ energy_loss(true_x, hnn_x) ]\n",
        "    print('{:.2f}% done'.format(100*float(i)/(splits*samples)), end='\\r')"
      ],
      "execution_count": 0,
      "outputs": [
        {
          "output_type": "stream",
          "text": [
            "(2000, 2) (2000, 2) (2000, 2)\n",
            "(2000, 2) (2000, 2) (2000, 2)\n",
            "(2000, 2) (2000, 2) (2000, 2)\n",
            "(2000, 2) (2000, 2) (2000, 2)\n",
            "(2000, 2) (2000, 2) (2000, 2)\n",
            "(2000, 2) (2000, 2) (2000, 2)\n",
            "(2000, 2) (2000, 2) (2000, 2)\n",
            "(2000, 2) (2000, 2) (2000, 2)\n",
            "(2000, 2) (2000, 2) (2000, 2)\n",
            "(2000, 2) (2000, 2) (2000, 2)\n",
            "(2000, 2) (2000, 2) (2000, 2)\n",
            "(2000, 2) (2000, 2) (2000, 2)\n",
            "(2000, 2) (2000, 2) (2000, 2)\n",
            "(2000, 2) (2000, 2) (2000, 2)\n",
            "(2000, 2) (2000, 2) (2000, 2)\n"
          ],
          "name": "stdout"
        }
      ]
    },
    {
      "cell_type": "code",
      "metadata": {
        "id": "vA4XPzr0fTBg",
        "colab_type": "code",
        "outputId": "0d869e99-2357-42e2-ae77-14b37dbdf9a1",
        "colab": {
          "base_uri": "https://localhost:8080/",
          "height": 67
        }
      },
      "source": [
        "losses = {k: np.array(v) for k,v in losses.items()}\n",
        "bootstrap_conf = lambda x, splits=5: np.std([np.mean(x_i) for x_i in np.split(x, splits)])/np.sqrt(splits)\n",
        "\n",
        "\n",
        "print(\"\\nBaseline NN energy MSE: {:.4e} +/- {:.2e}\\nHamiltonian NN energy MSE: {:.4e} +/- {:.2e}\"\n",
        "      .format(\n",
        "          np.mean(losses['base_energy']), bootstrap_conf(losses['base_energy'], splits),\n",
        "          np.mean(losses['hnn_energy']), bootstrap_conf(losses['hnn_energy'], splits))\n",
        "     )"
      ],
      "execution_count": 0,
      "outputs": [
        {
          "output_type": "stream",
          "text": [
            "\n",
            "Baseline NN energy MSE: 1.8441e-01 +/- 4.89e-02\n",
            "Hamiltonian NN energy MSE: 2.4475e-01 +/- 6.12e-02\n"
          ],
          "name": "stdout"
        }
      ]
    },
    {
      "cell_type": "code",
      "metadata": {
        "id": "xO0NFZ8B0QT3",
        "colab_type": "code",
        "colab": {}
      },
      "source": [
        ""
      ],
      "execution_count": 0,
      "outputs": []
    }
  ]
}